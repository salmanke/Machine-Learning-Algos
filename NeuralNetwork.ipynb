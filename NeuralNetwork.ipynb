{
  "nbformat": 4,
  "nbformat_minor": 0,
  "metadata": {
    "colab": {
      "name": "NeuralNetwork.ipynb",
      "provenance": [],
      "authorship_tag": "ABX9TyMxvR297ScIxwbTNK4iId0x",
      "include_colab_link": true
    },
    "kernelspec": {
      "name": "python3",
      "display_name": "Python 3"
    }
  },
  "cells": [
    {
      "cell_type": "markdown",
      "metadata": {
        "id": "view-in-github",
        "colab_type": "text"
      },
      "source": [
        "<a href=\"https://colab.research.google.com/github/salmanke/Machine-Learning-Algos/blob/main/NeuralNetwork.ipynb\" target=\"_parent\"><img src=\"https://colab.research.google.com/assets/colab-badge.svg\" alt=\"Open In Colab\"/></a>"
      ]
    },
    {
      "cell_type": "code",
      "metadata": {
        "id": "f_ZP52EMPYV2"
      },
      "source": [
        "import numpy as np\n",
        "input_i=np.array([[0,0],[0,1],[1,0],[1,1]])\n",
        "print(input_i.shape)\n",
        "print(input_i)"
      ],
      "execution_count": null,
      "outputs": []
    },
    {
      "cell_type": "code",
      "metadata": {
        "id": "ptFlLVWXQPNz"
      },
      "source": [
        "arr = np.array([[0, 1, 1, 1]])\n",
        "target = arr.reshape(4, 1)\n",
        "print(target)                                                                                                         "
      ],
      "execution_count": null,
      "outputs": []
    },
    {
      "cell_type": "code",
      "metadata": {
        "id": "yUNIR5MTUF9v"
      },
      "source": [
        "weights=np.array([[0.1],[0.2]])\n",
        "print(weights.shape)\n",
        "print(weights)"
      ],
      "execution_count": null,
      "outputs": []
    },
    {
      "cell_type": "code",
      "metadata": {
        "id": "PH7xNuxoVohR"
      },
      "source": [
        "bias=0.5\n",
        "learnr=0.01"
      ],
      "execution_count": 16,
      "outputs": []
    },
    {
      "cell_type": "code",
      "metadata": {
        "id": "Pzz7wYhqVyl0"
      },
      "source": [
        "def sigmoid(x):\n",
        "  return 1/(1+np.exp(-x))"
      ],
      "execution_count": 17,
      "outputs": []
    },
    {
      "cell_type": "code",
      "metadata": {
        "id": "WUoqcY18WAK_"
      },
      "source": [
        "def dersigmoid(x):\n",
        "  return sigmoid(x)*(1-sigmoid(x))"
      ],
      "execution_count": 18,
      "outputs": []
    },
    {
      "cell_type": "code",
      "metadata": {
        "colab": {
          "base_uri": "https://localhost:8080/"
        },
        "id": "ObIBvsXGWRE8",
        "outputId": "f4d9879e-f2f2-426d-88c8-aa04c0fa2d81"
      },
      "source": [
        "inputs=input_i\n",
        "in_o=np.dot(inputs,weights)+bias\n",
        "out=sigmoid(in_o)\n",
        "error=out-target\n",
        "x=error.sum()\n",
        "print(x)"
      ],
      "execution_count": 21,
      "outputs": [
        {
          "output_type": "stream",
          "text": [
            "-0.37372210927657135\n"
          ],
          "name": "stdout"
        }
      ]
    },
    {
      "cell_type": "code",
      "metadata": {
        "colab": {
          "base_uri": "https://localhost:8080/"
        },
        "id": "RBRIsvWUXO1K",
        "outputId": "af5cdd7b-4fd6-4114-d46c-9d1612280487"
      },
      "source": [
        "#calculating diffrentiation of error to update weights\n",
        "difEr=error\n",
        "difError=dersigmoid(out)\n",
        "derivative=difEr*difError\n",
        "inputs=input_i.T\n",
        "Finalderivatve=np.dot(inputs,derivative)\n",
        "weights-=learnr*Finalderivatve\n",
        "for i in derivative:\n",
        "  bias-=learnr*i\n",
        "print (bias)  "
      ],
      "execution_count": 24,
      "outputs": [
        {
          "output_type": "stream",
          "text": [
            "[0.50163609]\n"
          ],
          "name": "stdout"
        }
      ]
    },
    {
      "cell_type": "code",
      "metadata": {
        "colab": {
          "base_uri": "https://localhost:8080/"
        },
        "id": "KumbGq-Tbn7h",
        "outputId": "79ed08a1-e710-4180-e653-2d2a711a3e4f"
      },
      "source": [
        "single_point = np.array([1,0]) #1st step:\n",
        "result1 = np.dot(single_point, weights) + bias #2nd step:\n",
        "result2 = sigmoid(result1) #Print final result\n",
        "print(result2) #Taking inputs:\n",
        "single_point = np.array([1,1]) #1st step:\n",
        "result1 = np.dot(single_point, weights) + bias #2nd step:\n",
        "result2 = sigmoid(result1) #Print final result\n",
        "print(result2) #Taking inputs:\n",
        "single_point = np.array([0,0]) #1st step:\n",
        "result1 = np.dot(single_point, weights) + bias #2nd step:\n",
        "result2 = sigmoid(result1) #Print final result\n",
        "print(result2)"
      ],
      "execution_count": 25,
      "outputs": [
        {
          "output_type": "stream",
          "text": [
            "[0.64671135]\n",
            "[0.69157242]\n",
            "[0.62284374]\n"
          ],
          "name": "stdout"
        }
      ]
    }
  ]
}